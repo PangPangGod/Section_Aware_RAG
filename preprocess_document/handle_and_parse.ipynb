{
 "cells": [
  {
   "cell_type": "code",
   "execution_count": 64,
   "metadata": {},
   "outputs": [],
   "source": [
    "import uuid\n",
    "from langchain.retrievers.multi_vector import MultiVectorRetriever\n",
    "from langchain.storage import InMemoryStore\n",
    "from langchain_community.vectorstores.chroma import Chroma\n",
    "from langchain_core.documents import Document\n",
    "from langchain_core.embeddings import Embeddings\n",
    "from langchain_openai import OpenAIEmbeddings\n",
    "import pickle\n"
   ]
  },
  {
   "cell_type": "code",
   "execution_count": 77,
   "metadata": {},
   "outputs": [],
   "source": [
    "## Config embeddings\n",
    "class CustomMultiVectorRetriever:\n",
    "    def __init__(self, embedding_model:Embeddings) -> None:\n",
    "        self.embedding_model = embedding_model\n",
    "        # The vectorstore to use to index the child chunks*(summaries)\n",
    "        self.vectorstore = Chroma(\n",
    "            collection_name=\"table_summaries\", \n",
    "            embedding_function=embedding_model\n",
    "            )\n",
    "\n",
    "    def index_and_store_summaries(self, summary_tables, tables, retriever:MultiVectorRetriever):\n",
    "        # Add tables\n",
    "        table_ids = [str(uuid.uuid4()) for _ in tables]\n",
    "        summary_tables_docs = [\n",
    "            Document(page_content=s, metadata={\"doc_id\": table_ids[i]})\n",
    "            for i, s in enumerate(summary_tables)\n",
    "        ]\n",
    "        retriever.vectorstore.add_documents(summary_tables_docs)\n",
    "        retriever.docstore.mset(list(zip(table_ids, tables)))\n",
    "        print(\"Embedding Text, Table to Vectorstore Complete.\")\n",
    "        return\n",
    "\n",
    "    def get_retriever(self, tables, summary_tables):\n",
    "        # The storage layer for the parent documents\n",
    "        store = InMemoryStore()\n",
    "        id_key = \"doc_id\"\n",
    "\n",
    "        # The retriever (empty to start)\n",
    "        retriever = MultiVectorRetriever(\n",
    "            vectorstore=self.vectorstore,\n",
    "            docstore=store,\n",
    "            id_key=id_key,\n",
    "        )\n",
    "        # Here, you can call index_and_store_summaries method as a callback\n",
    "        self.index_and_store_summaries(\n",
    "            tables=tables,\n",
    "            summary_tables=summary_tables,\n",
    "            retriever=retriever,\n",
    "            )\n",
    "        \n",
    "        return retriever\n",
    "\n",
    "embedding_model=OpenAIEmbeddings(model=\"text-embedding-3-small\")\n",
    "\n",
    "### this is simple text retriever\n",
    "simpleVectorRetriever = Chroma(\n",
    "    collection_name=\"text\",\n",
    "    embedding_function=embedding_model\n",
    ")\n"
   ]
  },
  {
   "cell_type": "code",
   "execution_count": 79,
   "metadata": {},
   "outputs": [],
   "source": [
    "with open('elements_processed.pkl', 'rb') as file:\n",
    "    elem = pickle.load(file)\n",
    "\n",
    "text_elem = [e.text for e in elem if e.type=='text']\n",
    "\n",
    "rv = simpleVectorRetriever.from_texts(text_elem, embedding=embedding_model)\n"
   ]
  },
  {
   "cell_type": "code",
   "execution_count": 80,
   "metadata": {},
   "outputs": [],
   "source": [
    "rve = rv.as_retriever()"
   ]
  },
  {
   "cell_type": "code",
   "execution_count": 63,
   "metadata": {},
   "outputs": [
    {
     "name": "stderr",
     "output_type": "stream",
     "text": [
      "c:\\anaconda\\envs\\dev0410\\lib\\site-packages\\tiktoken\\core.py:50: RuntimeWarning: coroutine 'main' was never awaited\n",
      "  self._core_bpe = _tiktoken.CoreBPE(mergeable_ranks, special_tokens, pat_str)\n",
      "RuntimeWarning: Enable tracemalloc to get the object allocation traceback\n"
     ]
    },
    {
     "name": "stdout",
     "output_type": "stream",
     "text": [
      "Embedding Text, Table to Vectorstore Complete.\n"
     ]
    }
   ],
   "source": [
    "\n",
    "temporaryhtmlelements = ['<table cellspacing=\"0\"><thead><tr><th>Supply specification KWN 49037</th></tr></thead><tbody><tr><td>Revision: A</td></tr></tbody></table>', '<table cellspacing=\"0\"><thead><tr><th>Group</th><th>Inclusion thickness</th><th>Max. permitted class</th></tr></thead><tbody><tr><td rowspan=\"2\">A</td><td>Fine</td><td>3</td></tr><tr><td>Thick</td><td>3</td></tr><tr><td rowspan=\"2\">B</td><td>Fine</td><td>2,5</td></tr><tr><td>Thick</td><td>1,5</td></tr><tr><td rowspan=\"2\">C</td><td>Fine</td><td>2,5</td></tr><tr><td>Thick</td><td>1,5</td></tr><tr><td rowspan=\"2\">D</td><td>Fine</td><td>2</td></tr><tr><td>Thick</td><td>1,5</td></tr><tr><td>DS</td><td></td><td>2</td></tr></tbody></table>', '- highly malleable, individual grey particles - numerous non deformable, angular, low with a wide range of aspect ratios aspect ratio (generally < 3), black or bluish (length/width) and generally rounded ends particles (at least three) aligned in the deformation direction ', 'ratios (generally > 3) and generally sharp randomly distributed particles ends ', '<table cellspacing=\"0\"><tbody><tr><td>Supply specification</td></tr><tr><td>KWN 49037</td></tr><tr><td>Revision: A</td></tr></tbody></table>', '<table cellspacing=\"0\"><tbody><tr><td>Supply specification KWN 49037</td></tr><tr><td>Revision: A</td></tr></tbody></table>', '<table cellspacing=\"0\"><tbody><tr><td>Supply specification</td></tr><tr><td>Revision: A</td></tr></tbody></table>', '<table cellspacing=\"0\"><thead><tr><th>No.</th><th>Indication</th><th>Value / Name</th><th></th><th></th><th>Reference/Note</th></tr></thead><tbody><tr><td>1</td><td>Material designation</td><td colspan=\"3\">31CrMoV9</td><td>EN 10085</td></tr><tr><td>2</td><td>Material number</td><td>1.8519</td><td></td><td></td><td>EN 10085</td></tr><tr><td>3</td><td>Mechanical properties</td><td>acc. drawing</td><td></td><td></td><td>Verification is done on one sample per material charge</td></tr><tr><td>4</td><td>Manufacturing process</td><td colspan=\"3\">Drop-forged, free-form forged or rolled</td><td>Without inclusions and folds</td></tr><tr><td>5</td><td>Forging grade</td><td>F</td><td></td><td></td><td>EN 10243-1</td></tr><tr><td>6</td><td>Tolerances</td><td>-</td><td></td><td></td><td>EN 10243-1</td></tr><tr><td>7</td><td>Fineness</td><td colspan=\"3\" rowspan=\"2\">- M1</td><td>EN 10243-1</td></tr><tr><td>8</td><td>Steel grade</td><td>EN 10243-1</td></tr><tr><td>9</td><td>Surface finish</td><td colspan=\"3\">clean descaled</td><td></td></tr><tr><td>10</td><td>Chemical composition</td><td>Acc. EN 10085 DIN EN 683-5 Deviating S ≤ 0,02%</td><td>or from standard:</td><td></td><td>Melt analysis per material charge</td></tr><tr><td rowspan=\"9\">11</td><td rowspan=\"9\">Cleanliness</td><td colspan=\"3\">Inclusion group Width Klasse</td><td rowspan=\"10\">per melting charge sample, per material charge</td></tr><tr><td rowspan=\"2\">A</td><td>Fine</td><td>2</td></tr><tr><td>Thick</td><td>1</td></tr><tr><td>B</td><td>Fine</td><td>2</td></tr><tr><td rowspan=\"2\">C</td><td>Thick</td><td>1</td></tr><tr><td>Fine</td><td>0,5</td></tr><tr><td></td><td>Thick</td><td>0,5</td></tr><tr><td>D</td><td>Fine</td><td>1</td></tr><tr><td rowspan=\"2\">DS</td><td>Thick</td><td>1</td></tr><tr><td></td><td></td><td></td><td>2</td></tr><tr><td>12</td><td>Grain size</td><td colspan=\"3\">≥ 6 for 90% of the area Single grain ≤ 3 is prohibited</td><td>DIN EN ISO 643 After heat treatment on the test bar</td></tr><tr><td>13</td><td>Heat treatment condition</td><td colspan=\"2\">+QT</td><td></td><td>EN 10085 or DIN EN 683-5</td></tr><tr><td>14</td><td>Ultrasonic testing</td><td>acc. drawing</td><td></td><td></td><td>EN 10228-3</td></tr><tr><td>15</td><td>Magnetic particle inspection</td><td>acc. drawing</td><td></td><td></td><td>EN 10228-1</td></tr><tr><td>16</td><td>Penetration test</td><td>acc. drawing</td><td></td><td></td><td>EN 10228-2</td></tr><tr><td>17</td><td>Component marking</td><td>acc. drawing</td><td></td><td></td><td></td></tr><tr><td>18</td><td>Inspection certificate</td><td>Acceptance</td><td>test certificate</td><td>3.1</td><td>EN 10204</td></tr></tbody></table>', '2 Material number 1.8519 EN 10085 3 Mechanical properties acc. drawing Verification is done on one sample per material charge 4 Manufacturing process Drop-forged, free-form forged or Without inclusions and folds rolled 5 Forging grade F EN 10243-1 6 Tolerances - EN 10243-1 7 Fineness - EN 10243-1 8 Steel grade M1 EN 10243-1 9 Surface finish clean descaled 10 Chemical composition Acc. EN 10085 or Melt analysis per material DIN EN 683-5 charge Deviating from standard: S ≤ 0,02% 11 Cleanliness Inclusion Width Klasse per melting charge sample, group per material charge A Fine 2 Thick 1 B Fine 2 Thick 1 C Fine 0,5 Thick 0,5 D Fine 1 Thick 1 DS 2 12 Grain size ≥ 6 for 90% of the area DIN EN ISO 643 Single grain ≤ 3 is prohibited After heat treatment on the test bar 13 Heat treatment condition +QT EN 10085 or DIN EN 683-5 14 Ultrasonic testing acc. drawing EN 10228-3 15 Magnetic particle inspection acc. drawing EN 10228-1 16 Penetration test acc. drawing EN 10228-2 17 Component marking acc. drawing 18 Inspection certificate Acceptance test certificate 3.1 EN 10204 ', '<table cellspacing=\"0\"><thead><tr><th>No.</th><th>Indication</th><th>Value / Name</th><th></th><th></th><th>Reference/Note</th></tr></thead><tbody><tr><td>1</td><td>Material designation</td><td colspan=\"3\">30CrNiMo8</td><td>EN 10083-3</td></tr><tr><td>2</td><td>Material number</td><td>1.6580</td><td></td><td></td><td>EN 10083-3</td></tr><tr><td>3</td><td>Mechanical properties</td><td>acc. drawing</td><td></td><td></td><td>Verification is done on one sample per material charge</td></tr><tr><td>4</td><td>Manufacturing process</td><td>Drop-forged, rolled</td><td>free-form</td><td>forged or</td><td>Without inclusions and folds</td></tr><tr><td>5</td><td>Forging grade</td><td>F</td><td></td><td></td><td>EN 10243-1</td></tr><tr><td>6</td><td>Tolerances</td><td>-</td><td></td><td></td><td>EN 10243-1</td></tr><tr><td>7</td><td>Fineness</td><td>-</td><td></td><td></td><td>EN 10243-1</td></tr><tr><td>8</td><td>Steel grade</td><td colspan=\"3\">M1</td><td>EN 10243-1</td></tr><tr><td>9</td><td>Surface finish</td><td colspan=\"3\" rowspan=\"2\">clean descaled Acc. EN 10083-3 or DIN EN 683-2 Deviating from standard: S ≤ 0,02% Cu ≤ 0,3%</td><td></td></tr><tr><td>10</td><td>Chemical composition</td><td>Melt analysis per material charge</td></tr><tr><td rowspan=\"10\">11</td><td>Cleanliness</td><td>Inclusion</td><td>Width</td><td>Klasse</td><td rowspan=\"11\">per melting charge sample, per material charge</td></tr><tr><td></td><td>group</td><td></td><td></td></tr><tr><td></td><td>A</td><td>Fine 2</td><td></td></tr><tr><td></td><td></td><td>Thick 1</td><td></td></tr><tr><td></td><td>B</td><td>Fine 2</td><td></td></tr><tr><td></td><td rowspan=\"2\">C</td><td>Thick 1</td><td></td></tr><tr><td></td><td>Fine 0,5</td><td></td></tr><tr><td></td><td></td><td>Thick 0,5</td><td></td></tr><tr><td></td><td rowspan=\"2\">D</td><td>Fine 1</td><td></td></tr><tr><td></td><td>Thick 1</td><td></td></tr><tr><td></td><td></td><td>DS</td><td>2</td><td></td></tr><tr><td>12</td><td>Grain size</td><td colspan=\"3\">≥ 5 for 90% of the area Single grain ≤ 3 is prohibited</td><td>DIN EN ISO 643 After heat treatment on the test bar</td></tr><tr><td>13</td><td>Heat treatment condition</td><td>+QT</td><td></td><td></td><td>EN 10083-3 or DIN EN 683-2</td></tr><tr><td>14</td><td>Ultrasonic testing</td><td>acc. drawing</td><td></td><td></td><td>EN 10228-3</td></tr><tr><td>15</td><td>Magnetic particle inspection</td><td>acc. drawing</td><td></td><td></td><td>EN 10228-1</td></tr><tr><td>16</td><td>Penetration test</td><td>acc. drawing</td><td></td><td></td><td>EN 10228-2</td></tr><tr><td>17</td><td>Component marking</td><td>acc. drawing</td><td></td><td></td><td></td></tr><tr><td>18</td><td>Inspection certificate</td><td>Acceptance</td><td>test certificate</td><td>3.1</td><td>EN 10204</td></tr></tbody></table>', '<table cellspacing=\"0\"><thead><tr><th>Revision</th><th>Date</th><th>Changes</th></tr></thead><tbody><tr><td>A</td><td>03/06/2022</td><td>First edition</td></tr></tbody></table>']\n",
    "\n",
    "with open('table_summaries.pkl', 'rb') as file:\n",
    "    table_summaries = pickle.load(file)\n",
    "\n",
    "### CustomMultiRetriever\n",
    "customTableSummaryRetriever = CustomMultiVectorRetriever(embedding_model=embedding_model).get_retriever(summary_tables=table_summaries, tables=temporaryhtmlelements)"
   ]
  },
  {
   "cell_type": "code",
   "execution_count": 75,
   "metadata": {},
   "outputs": [
    {
     "name": "stdout",
     "output_type": "stream",
     "text": [
      "<class 'list'>\n"
     ]
    }
   ],
   "source": [
    "print(type(simpleVectorRetriever))"
   ]
  },
  {
   "cell_type": "code",
   "execution_count": 81,
   "metadata": {},
   "outputs": [],
   "source": [
    "from langchain.retrievers import EnsembleRetriever\n",
    "\n",
    "ensemble_retriever = EnsembleRetriever(retrievers=[rve, customTableSummaryRetriever], weights=[0.5, 0.5])"
   ]
  },
  {
   "cell_type": "code",
   "execution_count": 83,
   "metadata": {},
   "outputs": [],
   "source": [
    "## 잘 됨 여기에 reranker 붙이고 출력까지 ㄱㄱ"
   ]
  },
  {
   "cell_type": "code",
   "execution_count": 84,
   "metadata": {},
   "outputs": [
    {
     "name": "stderr",
     "output_type": "stream",
     "text": [
      "c:\\anaconda\\envs\\dev0410\\lib\\site-packages\\tqdm\\auto.py:21: TqdmWarning: IProgress not found. Please update jupyter and ipywidgets. See https://ipywidgets.readthedocs.io/en/stable/user_install.html\n",
      "  from .autonotebook import tqdm as notebook_tqdm\n"
     ]
    },
    {
     "name": "stdout",
     "output_type": "stream",
     "text": [
      "Document 1:\n",
      "\n",
      "<table cellspacing=\"0\"><thead><tr><th>No.</th><th>Indication</th><th>Value / Name</th><th></th><th></th><th>Reference/Note</th></tr></thead><tbody><tr><td>1</td><td>Material designation</td><td colspan=\"3\">31CrMoV9</td><td>EN 10085</td></tr><tr><td>2</td><td>Material number</td><td>1.8519</td><td></td><td></td><td>EN 10085</td></tr><tr><td>3</td><td>Mechanical properties</td><td>acc. drawing</td><td></td><td></td><td>Verification is done on one sample per material charge</td></tr><tr><td>4</td><td>Manufacturing process</td><td colspan=\"3\">Drop-forged, free-form forged or rolled</td><td>Without inclusions and folds</td></tr><tr><td>5</td><td>Forging grade</td><td>F</td><td></td><td></td><td>EN 10243-1</td></tr><tr><td>6</td><td>Tolerances</td><td>-</td><td></td><td></td><td>EN 10243-1</td></tr><tr><td>7</td><td>Fineness</td><td colspan=\"3\" rowspan=\"2\">- M1</td><td>EN 10243-1</td></tr><tr><td>8</td><td>Steel grade</td><td>EN 10243-1</td></tr><tr><td>9</td><td>Surface finish</td><td colspan=\"3\">clean descaled</td><td></td></tr><tr><td>10</td><td>Chemical composition</td><td>Acc. EN 10085 DIN EN 683-5 Deviating S ≤ 0,02%</td><td>or from standard:</td><td></td><td>Melt analysis per material charge</td></tr><tr><td rowspan=\"9\">11</td><td rowspan=\"9\">Cleanliness</td><td colspan=\"3\">Inclusion group Width Klasse</td><td rowspan=\"10\">per melting charge sample, per material charge</td></tr><tr><td rowspan=\"2\">A</td><td>Fine</td><td>2</td></tr><tr><td>Thick</td><td>1</td></tr><tr><td>B</td><td>Fine</td><td>2</td></tr><tr><td rowspan=\"2\">C</td><td>Thick</td><td>1</td></tr><tr><td>Fine</td><td>0,5</td></tr><tr><td></td><td>Thick</td><td>0,5</td></tr><tr><td>D</td><td>Fine</td><td>1</td></tr><tr><td rowspan=\"2\">DS</td><td>Thick</td><td>1</td></tr><tr><td></td><td></td><td></td><td>2</td></tr><tr><td>12</td><td>Grain size</td><td colspan=\"3\">≥ 6 for 90% of the area Single grain ≤ 3 is prohibited</td><td>DIN EN ISO 643 After heat treatment on the test bar</td></tr><tr><td>13</td><td>Heat treatment condition</td><td colspan=\"2\">+QT</td><td></td><td>EN 10085 or DIN EN 683-5</td></tr><tr><td>14</td><td>Ultrasonic testing</td><td>acc. drawing</td><td></td><td></td><td>EN 10228-3</td></tr><tr><td>15</td><td>Magnetic particle inspection</td><td>acc. drawing</td><td></td><td></td><td>EN 10228-1</td></tr><tr><td>16</td><td>Penetration test</td><td>acc. drawing</td><td></td><td></td><td>EN 10228-2</td></tr><tr><td>17</td><td>Component marking</td><td>acc. drawing</td><td></td><td></td><td></td></tr><tr><td>18</td><td>Inspection certificate</td><td>Acceptance</td><td>test certificate</td><td>3.1</td><td>EN 10204</td></tr></tbody></table>\n",
      "----------------------------------------------------------------------------------------------------\n",
      "Document 2:\n",
      "\n",
      "<table cellspacing=\"0\"><thead><tr><th>No.</th><th>Indication</th><th>Value / Name</th><th></th><th></th><th>Reference/Note</th></tr></thead><tbody><tr><td>1</td><td>Material designation</td><td colspan=\"3\">30CrNiMo8</td><td>EN 10083-3</td></tr><tr><td>2</td><td>Material number</td><td>1.6580</td><td></td><td></td><td>EN 10083-3</td></tr><tr><td>3</td><td>Mechanical properties</td><td>acc. drawing</td><td></td><td></td><td>Verification is done on one sample per material charge</td></tr><tr><td>4</td><td>Manufacturing process</td><td>Drop-forged, rolled</td><td>free-form</td><td>forged or</td><td>Without inclusions and folds</td></tr><tr><td>5</td><td>Forging grade</td><td>F</td><td></td><td></td><td>EN 10243-1</td></tr><tr><td>6</td><td>Tolerances</td><td>-</td><td></td><td></td><td>EN 10243-1</td></tr><tr><td>7</td><td>Fineness</td><td>-</td><td></td><td></td><td>EN 10243-1</td></tr><tr><td>8</td><td>Steel grade</td><td colspan=\"3\">M1</td><td>EN 10243-1</td></tr><tr><td>9</td><td>Surface finish</td><td colspan=\"3\" rowspan=\"2\">clean descaled Acc. EN 10083-3 or DIN EN 683-2 Deviating from standard: S ≤ 0,02% Cu ≤ 0,3%</td><td></td></tr><tr><td>10</td><td>Chemical composition</td><td>Melt analysis per material charge</td></tr><tr><td rowspan=\"10\">11</td><td>Cleanliness</td><td>Inclusion</td><td>Width</td><td>Klasse</td><td rowspan=\"11\">per melting charge sample, per material charge</td></tr><tr><td></td><td>group</td><td></td><td></td></tr><tr><td></td><td>A</td><td>Fine 2</td><td></td></tr><tr><td></td><td></td><td>Thick 1</td><td></td></tr><tr><td></td><td>B</td><td>Fine 2</td><td></td></tr><tr><td></td><td rowspan=\"2\">C</td><td>Thick 1</td><td></td></tr><tr><td></td><td>Fine 0,5</td><td></td></tr><tr><td></td><td></td><td>Thick 0,5</td><td></td></tr><tr><td></td><td rowspan=\"2\">D</td><td>Fine 1</td><td></td></tr><tr><td></td><td>Thick 1</td><td></td></tr><tr><td></td><td></td><td>DS</td><td>2</td><td></td></tr><tr><td>12</td><td>Grain size</td><td colspan=\"3\">≥ 5 for 90% of the area Single grain ≤ 3 is prohibited</td><td>DIN EN ISO 643 After heat treatment on the test bar</td></tr><tr><td>13</td><td>Heat treatment condition</td><td>+QT</td><td></td><td></td><td>EN 10083-3 or DIN EN 683-2</td></tr><tr><td>14</td><td>Ultrasonic testing</td><td>acc. drawing</td><td></td><td></td><td>EN 10228-3</td></tr><tr><td>15</td><td>Magnetic particle inspection</td><td>acc. drawing</td><td></td><td></td><td>EN 10228-1</td></tr><tr><td>16</td><td>Penetration test</td><td>acc. drawing</td><td></td><td></td><td>EN 10228-2</td></tr><tr><td>17</td><td>Component marking</td><td>acc. drawing</td><td></td><td></td><td></td></tr><tr><td>18</td><td>Inspection certificate</td><td>Acceptance</td><td>test certificate</td><td>3.1</td><td>EN 10204</td></tr></tbody></table>\n",
      "----------------------------------------------------------------------------------------------------\n",
      "Document 3:\n",
      "\n",
      "2 Material number 1.8519 EN 10085 3 Mechanical properties acc. drawing Verification is done on one sample per material charge 4 Manufacturing process Drop-forged, free-form forged or Without inclusions and folds rolled 5 Forging grade F EN 10243-1 6 Tolerances - EN 10243-1 7 Fineness - EN 10243-1 8 Steel grade M1 EN 10243-1 9 Surface finish clean descaled 10 Chemical composition Acc. EN 10085 or Melt analysis per material DIN EN 683-5 charge Deviating from standard: S ≤ 0,02% 11 Cleanliness Inclusion Width Klasse per melting charge sample, group per material charge A Fine 2 Thick 1 B Fine 2 Thick 1 C Fine 0,5 Thick 0,5 D Fine 1 Thick 1 DS 2 12 Grain size ≥ 6 for 90% of the area DIN EN ISO 643 Single grain ≤ 3 is prohibited After heat treatment on the test bar 13 Heat treatment condition +QT EN 10085 or DIN EN 683-5 14 Ultrasonic testing acc. drawing EN 10228-3 15 Magnetic particle inspection acc. drawing EN 10228-1 16 Penetration test acc. drawing EN 10228-2 17 Component marking acc. drawing 18 Inspection certificate Acceptance test certificate 3.1 EN 10204 \n",
      "----------------------------------------------------------------------------------------------------\n",
      "Document 4:\n",
      "\n",
      "2.8 Material data sheets 2.8.1 42CrMo4 Table 8: Material data sheet 42CrMo4 No. Indication Value / Name Reference/Note 1 Material designation 42CrMo4 EN 10083-3 2 Material number 1.7225 EN 10083-3 3 Mechanical properties acc. drawing Verification is done on one sample per material charge 4 Manufacturing process Drop-forged, free-form forged or Without inclusions and folds rolled 5 Forging grade F EN 10243-1 6 Tolerances - EN 10243-1 7 Fineness - EN 10243-1 8 Steel grade M1 EN 10243-1 9 Surface finish clean descaled 10 Chemical composition Acc. EN 10083-3 or Melt analysis per material DIN EN 683-2 charge Deviating from standard: S ≤ 0,02% Cu ≤ 0,3% 11 Cleanliness Inclusion Width Klasse per melting charge sample, group per material charge A Fine 2 Thick 1 B Fine 2 Thick 1 C Fine 0,5 Thick 0,5 D Fine 1 Thick 1 DS 2 12 Grain size ≥ 6 for 90% of the area DIN EN ISO 643 Single grain ≤ 3 is prohibited After heat treatment on the test bar 13 Heat treatment condition +QT EN 10083-3 or DIN EN 683-2 14 Ultrasonic testing acc. drawing EN 10228-3 15 Magnetic particle inspection acc. drawing EN 10228-1 16 Penetration test acc. drawing EN 10228-2 17 Component marking acc. drawing 18 Inspection certificate Acceptance test certificate 3.1 EN 10204 KWN49037_A_eng.docx Page 10 von 13 Copyright () KWD Kupplungswerk Dresden, All rights reserved. Supply specification \n",
      "----------------------------------------------------------------------------------------------------\n",
      "Document 5:\n",
      "\n",
      "2.4 Internal condition The internal condition must be tested by ultrasonic testing according to DIN EN 10228-3 or DIN EN 10228-4, or by the cleanliness according to ISO 4967 or DIN EN 10247 and the grain size according to DIN EN ISO 643. 2.4.1 Cleanliness DIN EN ISO 683 (e.g. Part 2 - Quenched and tempered steels; Part 3 - Case-hardened steels) defines the limit values for melt analysis. A melt analysis must be made per material charge. To obtain a sufficient fine grain structure, aluminum (minimum content 0.018%) or niobium may be added. Minor deviations from the chemical composition are acceptable as long as the requirements for hardenability, grain size, cleanliness and strength are met. For deviating mass proportions, see the individual material data sheets in chapter 2.8. Non-metallic inclusions are divided into five groups according to ISO 4967; the classes according to No. 11 of the individual material data sheets can be taken from Chapter 2.8. For materials which are not listed in chapter 2.8 or which are not specified under No. 11 of the material data sheets, the following limit values of the classes are valid, Table 1. The material must be tested on the basis of the melt batch sample, for each material charge, see Table 1. Table 1: Limit values for the classes according to ISO 4967 Group Inclusion thickness Max. permitted class A Fine 3 Thick 3 B Fine 2,5 Thick 1,5 C Fine 2,5 Thick 1,5 D Fine 2 Thick 1,5 DS 2 KWN49037_A_eng.docx Page 4 von 13 Copyright () KWD Kupplungswerk Dresden, All rights reserved. Supply specification \n"
     ]
    }
   ],
   "source": [
    "from langchain.retrievers import ContextualCompressionRetriever\n",
    "from langchain.retrievers.document_compressors import CrossEncoderReranker\n",
    "from langchain_community.cross_encoders import HuggingFaceCrossEncoder\n",
    "\n",
    "def pretty_print_docs(docs):\n",
    "    print(\n",
    "        f\"\\n{'-' * 100}\\n\".join(\n",
    "            [f\"Document {i+1}:\\n\\n\" + d.page_content for i, d in enumerate(docs)]\n",
    "        )\n",
    "    )\n",
    "\n",
    "\n",
    "model = HuggingFaceCrossEncoder(model_name=\"BAAI/bge-reranker-v2-m3\")\n",
    "compressor = CrossEncoderReranker(model=model, top_n=5)\n",
    "compression_retriever = ContextualCompressionRetriever(\n",
    "    base_compressor=compressor, base_retriever=ensemble_retriever\n",
    ")\n",
    "\n",
    "compressed_docs = compression_retriever.invoke(\"Chemical composition?\")\n",
    "pretty_print_docs(compressed_docs)"
   ]
  },
  {
   "cell_type": "code",
   "execution_count": 86,
   "metadata": {},
   "outputs": [],
   "source": [
    "from langchain_core.output_parsers import StrOutputParser\n",
    "from langchain_core.prompts import ChatPromptTemplate\n",
    "from langchain_core.runnables import RunnableParallel, RunnablePassthrough\n",
    "from langchain_openai import ChatOpenAI"
   ]
  },
  {
   "cell_type": "code",
   "execution_count": 89,
   "metadata": {},
   "outputs": [],
   "source": [
    "template = \"\"\"Answer the question based only on the following context:\n",
    "{context}\n",
    "\n",
    "Question: {question}\n",
    "\"\"\"\n",
    "\n",
    "model = ChatOpenAI(temperature=0, model=\"gpt-4-turbo-preview\", max_tokens=2048)\n",
    "\n",
    "\n",
    "prompt = ChatPromptTemplate.from_template(template)\n",
    "output_parser = StrOutputParser()\n",
    "\n",
    "setup_and_retrieval = RunnableParallel(\n",
    "    {\"context\": compression_retriever, \"question\": RunnablePassthrough()}\n",
    ")\n",
    "chain = setup_and_retrieval | prompt | model | output_parser\n"
   ]
  },
  {
   "cell_type": "code",
   "execution_count": 93,
   "metadata": {},
   "outputs": [
    {
     "name": "stdout",
     "output_type": "stream",
     "text": [
      "Based on the provided documents, here is the specific information related to the material 30CrNiMo8:\n",
      "\n",
      "1. **Material Designation**: 30CrNiMo8\n",
      "2. **Material Number**: 1.6580\n",
      "3. **Mechanical Properties**: According to the drawing, with verification done on one sample per material charge.\n",
      "4. **Manufacturing Process**: Drop-forged, rolled, free-form forged or without inclusions and folds.\n",
      "5. **Forging Grade**: F, as per EN 10243-1.\n",
      "6. **Tolerances**: As per EN 10243-1.\n",
      "7. **Fineness**: As per EN 10243-1.\n",
      "8. **Steel Grade**: M1, according to EN 10243-1.\n",
      "9. **Surface Finish**: Clean descaled according to EN 10083-3 or DIN EN 683-2, with deviations from standard: S ≤ 0.02%, Cu ≤ 0.3%.\n",
      "10. **Chemical Composition**: Melt analysis per material charge.\n",
      "11. **Cleanliness**: Inclusion group width class per melting charge sample, per material charge, with specific classes for A (Fine 2, Thick 1), B (Fine 2), C (Thick 1, Fine 0.5, Thick 0.5), D (Fine 1, Thick 1), and DS (2).\n",
      "12. **Grain Size**: ≥ 5 for 90% of the area, with a single grain ≤ 3 being prohibited, as per DIN EN ISO 643 after heat treatment on the test bar.\n",
      "13. **Heat Treatment Condition**: +QT, according to EN 10083-3 or DIN EN 683-2.\n",
      "14. **Ultrasonic Testing**: According to the drawing, as per EN 10228-3.\n",
      "15. **Magnetic Particle Inspection**: According to the drawing, as per EN 10228-1.\n",
      "16. **Penetration Test**: According to the drawing, as per EN 10228-2.\n",
      "17. **Component Marking**: According to the drawing.\n",
      "18. **Inspection Certificate**: Acceptance test certificate 3.1, as per EN 10204.\n",
      "\n",
      "This information is derived from the material data sheet for 30CrNiMo8 as specified in the document with supply specification KWN 49037 Revision: A.\n"
     ]
    }
   ],
   "source": [
    "response = chain.invoke(\"\")\n",
    "\n",
    "print(response)"
   ]
  },
  {
   "cell_type": "code",
   "execution_count": null,
   "metadata": {},
   "outputs": [],
   "source": []
  }
 ],
 "metadata": {
  "kernelspec": {
   "display_name": "dev0410",
   "language": "python",
   "name": "python3"
  },
  "language_info": {
   "codemirror_mode": {
    "name": "ipython",
    "version": 3
   },
   "file_extension": ".py",
   "mimetype": "text/x-python",
   "name": "python",
   "nbconvert_exporter": "python",
   "pygments_lexer": "ipython3",
   "version": "3.10.14"
  }
 },
 "nbformat": 4,
 "nbformat_minor": 2
}
