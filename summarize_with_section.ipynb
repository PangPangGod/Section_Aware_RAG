{
 "cells": [
  {
   "cell_type": "markdown",
   "metadata": {},
   "source": [
    "Before start\n",
    "\n",
    "We use Gemini 1.5 Flash (simmilar to Claude3 Haiku, but compare its Cost effectiveness : Gemini 1.5 Flash is much better in 2024. may 16)\n",
    "\n",
    "`pip install -q -U google-generativeai`"
   ]
  },
  {
   "cell_type": "code",
   "execution_count": 1,
   "metadata": {},
   "outputs": [
    {
     "name": "stdout",
     "output_type": "stream",
     "text": [
      "['models/gemini-1.0-pro', 'models/gemini-1.0-pro-001', 'models/gemini-1.0-pro-latest', 'models/gemini-1.0-pro-vision-latest', 'models/gemini-1.5-flash-latest', 'models/gemini-1.5-pro-latest', 'models/gemini-pro', 'models/gemini-pro-vision']\n"
     ]
    }
   ],
   "source": [
    "## setup gemini with gcp sdk\n",
    "\n",
    "import google.generativeai as genai\n",
    "print([model.name for model in genai.list_models() if 'generateContent' in model.supported_generation_methods])"
   ]
  },
  {
   "cell_type": "code",
   "execution_count": 2,
   "metadata": {},
   "outputs": [],
   "source": [
    "model = genai.GenerativeModel(model_name=\"gemini-1.5-flash-latest\")"
   ]
  },
  {
   "cell_type": "code",
   "execution_count": 3,
   "metadata": {},
   "outputs": [
    {
     "name": "stdout",
     "output_type": "stream",
     "text": [
      "Hello there! 👋  How can I help you today? 😊 \n",
      "\n"
     ]
    }
   ],
   "source": [
    "response = model.generate_content(\"Hello world!\") #check working\n",
    "print(response.text)"
   ]
  },
  {
   "cell_type": "markdown",
   "metadata": {},
   "source": [
    "Working well. now use it to owr usecase."
   ]
  },
  {
   "cell_type": "code",
   "execution_count": 4,
   "metadata": {},
   "outputs": [
    {
     "name": "stdout",
     "output_type": "stream",
     "text": [
      "[TextElement(type='text', text='Supply specification KWN 49037 Revision: A Material and testing requirements Forgings ', page_number=0, table_index=None, is_table=False), TextElement(type='table', text='| Created by: | Dipl.-Ing. M. Krondorf | 03/06/2022 | sgd. M. Krondorf |\\n| :--- | :--- | :--- | :--- |\\n| Examined by: | Dr.-Ing. T. Hähnel | 03/06/2022 | sgd. T. Hähnel |\\n|  | Name | Date | Signature |\\n', page_number=0, table_index=0, is_table=True), TextElement(type='text', text='KWD Kupplungswerk Dresden GmbH Löbtauer Straße 45 D – 01159 Dresden Postfach 270144 D – 01172 Dresden Tel.: + 49(0)351 – 4999-0 Fax.: + 49(0)351 – 4999-233 kwd@kupplungswerk-dresden.de http://www.kupplungswerk-dresden.de KWN49037_A_eng.docx Page 1 von 13 Copyright (\\uf0e3) KWD Kupplungswerk Dresden, All rights reserved. Supply specification ', page_number=0, table_index=None, is_table=False), TextElement(type='table', text='| Supply specification KWN 49037 |\\n| :--- |\\n|\\n', page_number=1, table_index=0, is_table=True), TextElement(type='text', text='Table of contents Table of contents ........................................................................................................................... 2 1 Field of application ................................................................................................................. 3 1.1 Terms ................................................................................................................................................. 3 2 Forgings .................................................................................................................................. 3 2.1 Mechanical properties ...................................................................................................................... 3 2.2 Surface finish .................................................................................................................................... 3 2.3 Heat treatment .................................................................................................................................. 3 2.4 Internal condition ............................................................................................................................. 4 2.4.1 Cleanliness ................................................................................................................................ 4 2.4.2 Grain size ................................................................................................................................... 7 2.4.3 Ultrasonic testing ..................................................................................................................... 8 2.5 External condition ............................................................................................................................ 8 2.6 Tests .................................................................................................................................................. 9 2.6.1 Inspector qualification ............................................................................................................. 9 2.7 Acceptance test certificate .............................................................................................................. 9 2.8 Material data sheets ....................................................................................................................... 10 2.8.1 42CrMo4 ................................................................................................................................... 10 2.8.2 31CrMoV9 ................................................................................................................................ 11 2.8.3 30CrNiMo8 ............................................................................................................................... 12 KWN49037_A_eng.docx Page 2 von 13 Copyright (\\uf0e3) KWD Kupplungswerk Dresden, All rights reserved. Supply specification ', page_number=1, table_index=None, is_table=False), TextElement(type='table', text='| Supply specification KWN 49037 |\\n| :--- |\\n| Revision: A |\\n', page_number=2, table_index=0, is_table=True), TextElement(type='text', text='1 Field of application This company standard defines the requirements for forged raw parts and the technical delivery conditions used for the manufacture of products of KWD Kupplungswerk Dresden GmbH products. 1.1 Terms The following definitions of terms shall govern the use of this document: Semi-finished product (DIN EN 10079) A semi-finished product is a product created by: - Continuous casting and, where applicable, subsequent rolling, forging or slitting; - die casting; - rolling, forging or slitting of large section ingots or continuous castings; generally intended for forming into flat or long products by hot rolling, by hot forging or for the production of forgings. Raw part (DIN 199-1) Part produced non-cutting for the manufacture of a specific object, which still requires machining. Note: Raw parts are e.g. castings, forgings, pressed parts. Forging Forging is the hot forming of blooms (ingots, forged or rolled semi-finished products, continuous castings) and is performed by longitudinal, open-die or die forging to a shape of the component close to the final dimensions for further processing. The forming process produces a largely homogeneous and dense structure across the section. 2 Forgings Technical delivery terms and quality specifications are to be taken from the corresponding DIN, DIN EN, ISO or SEW material standards, if no special requirements are made. In case of special requirements, the quality specifications for forgings are given in the drawing or this KWN. The following sections must be observed if the specifications for testing forgings are given in the drawing or manufacturing documents. 2.1 Mechanical properties The mechanical properties to be achieved for the respective material can be taken from the drawing. If no separate information on the mechanical properties is given on the drawing, the properties defined in the material standard must be used. 2.2 Surface finish If forging dies are supplied in the forged condition, they must be cleanly descaled. If forgings are delivered in machined condition, the machined surfaces must be finished according to drawing specification. 2.3 Heat treatment Heat treatments are to be done or arranged by the forging company and/or the manufacturing company. The specifications on the drawing for heat treatment according to DIN EN ISO 683 have to be fulfilled. KWN49037_A_eng.docx Page 3 von 13 Copyright (\\uf0e3) KWD Kupplungswerk Dresden, All rights reserved. Supply specification ', page_number=2, table_index=None, is_table=False), TextElement(type='text', text='Supply specification KWN 49037 Revision: A 2.4 Internal condition The internal condition must be tested by ultrasonic testing according to DIN EN 10228-3 or DIN EN 10228-4, or by the cleanliness according to ISO 4967 or DIN EN 10247 and the grain size according to DIN EN ISO 643. 2.4.1 Cleanliness DIN EN ISO 683 (e.g. Part 2 - Quenched and tempered steels; Part 3 - Case-hardened steels) defines the limit values for melt analysis. A melt analysis must be made per material charge. To obtain a sufficient fine grain structure, aluminum (minimum content 0.018%) or niobium may be added. Minor deviations from the chemical composition are acceptable as long as the requirements for hardenability, grain size, cleanliness and strength are met. For deviating mass proportions, see the individual material data sheets in chapter 2.8. Non-metallic inclusions are divided into five groups according to ISO 4967; the classes according to No. 11 of the individual material data sheets can be taken from Chapter 2.8. For materials which are not listed in chapter 2.8 or which are not specified under No. 11 of the material data sheets, the following limit values of the classes are valid, Table 1. The material must be tested on the basis of the melt batch sample, for each material charge, see Table 1. Table 1: Limit values for the classes according to ISO 4967 ', page_number=3, table_index=None, is_table=False), TextElement(type='table', text='| Group | Inclusion thickness | Max. permitted class |\\n| :--- | :--- | :--- |\\n| A | Fine | 3 |\\n| Thick | 3 |\\n| B | Fine | 2,5 |\\n| Thick | 1,5 |\\n| C | Fine | 2,5 |\\n| Thick | 1,5 |\\n| D | Fine | 2 |\\n| Thick | 1,5 |\\n| DS |  | 2 |\\n', page_number=3, table_index=0, is_table=True), TextElement(type='text', text='KWN49037_A_eng.docx Page 4 von 13 Copyright (\\uf0e3) KWD Kupplungswerk Dresden, All rights reserved. Supply specification ', page_number=3, table_index=None, is_table=False), TextElement(type='text', text='Supply specification KWN 49037 Revision: A The classes define the lengths (or number / diameter) of non-metallic inclusions in the die, Table 2: Table 2: Evaluation limits for the length respectively number and diameter of inclusions according to groups ', page_number=4, table_index=None, is_table=False), TextElement(type='table', text='| Class | Inclusion group |\\n| :--- | :--- |\\n|\\n| 0,5 | 37 | 17 | 18 | 1 | 13 |\\n| 1 | 127 | 77 | 76 | 4 | 19 |\\n| 1,5 | 261 | 184 | 176 | 9 | 27 |\\n| 2 | 436 | 343 | 320 | 16 | 38 |\\n| 2,5 | 649 | 555 | 510 | 25 | 53 |\\n| 3 | 898 | 822 | 746 | 36 | 76 |\\n', page_number=4, table_index=0, is_table=True), TextElement(type='text', text='In addition, the inclusions per inclusion group are divided into \"Fine\" or \"Thick\" according to their thicknesses, Table 3. Table 3: Evaluation limits for inclusion thickness ', page_number=4, table_index=None, is_table=False), TextElement(type='table', text='| Inclusion group | Fine | Thick |\\n| :--- | :--- | :--- |\\n|\\n| A | 2 | 4 | 4 | 12 |\\n| B | 2 | 9 | 9 | 15 |\\n| C | 2 | 5 | 5 | 12 |\\n| D | Ø2 | Ø 8 | Ø 8 | Ø 13 |\\n', page_number=4, table_index=1, is_table=True), TextElement(type='text', text='KWN49037_A_eng.docx Page 5 von 13 Copyright (\\uf0e3) KWD Kupplungswerk Dresden, All rights reserved. Supply specification ', page_number=4, table_index=None, is_table=False), TextElement(type='text', text='Supply specification KWN 49037 Revision: A The evaluation of the inclusions can be made via ISO 4967, DIN EN 10247 or also ASTM E45. For each standard, the classification according to ISO 4967 is decisive. Table 5 lists the areas of application of the standards: Table 5: Application areas standards for non-metallic inclusions ', page_number=6, table_index=None, is_table=False), TextElement(type='table', text='| Standards | Application area |\\n| :--- | :--- |\\n| DIN EN 10247 | Quenched and tempered steel, case hardening steel |\\n| ISO 4967 | Low alloy steels |\\n| ASTM E45 | Low alloy steels |\\n', page_number=6, table_index=0, is_table=True), TextElement(type='text', text='Comparison of the non-metallic inclusions according to the geometric parameters as well as the size of the test area, taking into account the respective evaluation methods, Table 6: Table 6: Comparison of the evaluation methods of the standards ', page_number=6, table_index=None, is_table=False), TextElement(type='table', text='| Standard | Quantity evaluation | Maximum evaluation | 1: Minimum test area [mm2] 2: Min. length x width [mm] 3: Min. number [Pcs] | Minimum inclusion size for the evaluation [µm] | Distance relations [µm] |\\n| :--- | :--- | :--- | :--- | :--- | :--- |\\n| DIN EN 10247 | Method K | Method M, Method P | 1: 200; 2: 20x10; 3: 6 | w &gt; 2 d &gt; 3 l &gt; 3 | e ≤ 40 t ≤ 10 |\\n| ISO 4967 | Method B | Method A | Minimum 100 visual fields of size ≥ 50 mm² | w &gt; 2 d &gt; 3 | e ≤ 40 t ≤ 10 |\\n| ASTM E45 | Method D, E | Method A | 1: 160 | w &gt; 2 d &gt; 3 | e ≤ 40 t ≤ 15 |\\n', page_number=6, table_index=1, is_table=True), TextElement(type='text', text='2.4.2 Grain size The determination of the grain size is described in DIN EN ISO 643, Table 7. A grain size index of ≥ 6 for 70% of the evaluated area must be achieved for all materials. A particle size index ≤ 3 is not permissible. For deviating grain size limits, refer to the individual material data sheets in chapter 2.8. Table 7: Limits of the size and number of grains ', page_number=6, table_index=None, is_table=False), TextElement(type='table', text='| Grain size index G | Number of grains per square millimeter M | Average grain diameter 𝑑̅ [mm] | Average grain area 𝑎̅ [mm2] | Mean length of the linear section segment l [mm] | Mean number of intersections with grains per milimeter of measurement line |\\n| :--- | :--- | :--- | :--- | :--- | :--- |\\n|\\n| 3 | 64 | 48 | 96 | 0,125 | 0,01560 | 0,113 | 8,84 |\\n| 6 | 512 | 384 | 768 | 0,0442 | 0,00195 | 0,040 | 25,0 |\\n', page_number=6, table_index=2, is_table=True), TextElement(type='text', text='KWN49037_A_eng.docx Page 7 von 13 Copyright (\\uf0e3) KWD Kupplungswerk Dresden, All rights reserved. Supply specification ', page_number=6, table_index=None, is_table=False), TextElement(type='table', text='| |\\n| :--- |\\n| Supply specification |\\n| KWN 49037 |\\n| Revision: A |\\n', page_number=7, table_index=0, is_table=True), TextElement(type='text', text='An evaluation of the grain area distribution is to be preferred as an analysis method. The linear section method alone for determining the grain sizes is not sufficient, since local coarse grain formation is not taken into account there, see Figure 1: Figure 1: Example of linear section method (left) and grain area distribution (right) 2.4.3 Ultrasonic testing The standards define quality classes for the recording level and reliability criteria for vertical and angle sensor heads. DIN EN 10228-3 distinguishes between four quality classes, DIN EN 10228-4 between three quality classes. Testing is to be carried out in the areas marked on the drawing with the classes specified there. 2.5 External condition The external condition must be tested according to DIN EN 10228-1 by magnetic particle method or according to DIN EN 10228-2 by penetrant testing, if this is specified on the drawing. Regardless of the drawing specification, quality class 3 according to DIN EN 10228-1 or DIN EN 10228-2 must be complied with as a minimum requirement, if required. KWN49037_A_eng.docx Page 8 von 13 Copyright (\\uf0e3) KWD Kupplungswerk Dresden, All rights reserved. Supply specification ', page_number=7, table_index=None, is_table=False), TextElement(type='table', text='| |\\n| :--- |\\n| Supply specification KWN 49037 |\\n| Revision: A |\\n', page_number=8, table_index=0, is_table=True), TextElement(type='text', text='2.6 Tests 2.6.1 Inspector qualification The inspectors must be able, by training and experience, to properly perform the following tests in accordance with the specified regulations. The inspector qualification for non-destructive testing (NDT) on forgings shall be in accordance with DIN EN ISO 9712, whereby the assessment shall be carried out by an inspector (minimum level 2). Comparable country-specific qualifications are accepted. 2.7 Acceptance test certificate The results of the tests to be performed shall be certified in an acceptance test certificate 3.1 according to EIN EN 10204. KWN49037_A_eng.docx Page 9 von 13 Copyright (\\uf0e3) KWD Kupplungswerk Dresden, All rights reserved. Supply specification ', page_number=8, table_index=None, is_table=False), TextElement(type='table', text='| |\\n| :--- |\\n| Supply specification |\\n| Revision: A |\\n', page_number=9, table_index=0, is_table=True), TextElement(type='text', text='2.8 Material data sheets 2.8.1 42CrMo4 Table 8: Material data sheet 42CrMo4 ', page_number=9, table_index=None, is_table=False), TextElement(type='table', text='| No. | Indication | Value / Name |  |  | Reference/Note |\\n| :--- | :--- | :--- | :--- | :--- | :--- |\\n| 1 | Material designation | 42CrMo4 | EN 10083-3 |\\n| 2 | Material number | 1.7225 |  |  | EN 10083-3 |\\n| 3 | Mechanical properties | acc. drawing |  |  | Verification is done on one sample per material charge |\\n| 4 | Manufacturing process | Drop-forged, rolled | free-form | forged or | Without inclusions and folds |\\n| 5 | Forging grade | F |  |  | EN 10243-1 |\\n| 6 | Tolerances | - |  |  | EN 10243-1 |\\n| 7 | Fineness | - M1 | EN 10243-1 |\\n| 8 | Steel grade | EN 10243-1 |\\n| 9 | Surface finish | clean descaled |  |  |  |\\n| 10 | Chemical composition | Acc. EN 10083-3 or DIN EN 683-2 Deviating from standard: S ≤ 0,02% Cu ≤ 0,3% | Melt analysis per material charge |\\n| 11 | Cleanliness | Inclusion | Width | Klasse | per melting charge sample, per material charge |\\n|  | group |  |  |\\n|  | A | Fine 2 |  |\\n|  |  | Thick 1 |  |\\n|  | B C | Fine 2 |  |\\n|  | Thick 1 |  |\\n|  | Fine 0,5 |  |\\n|  |  | Thick 0,5 |  |\\n|  | D DS | Fine 1 |  |\\n|  | Thick 1 |  |\\n|  |  | 2 |  |\\n| 12 | Grain size | ≥ 6 for 90% of the area Single grain ≤ 3 is prohibited | DIN EN ISO 643 After heat treatment on the test bar |\\n| 13 | Heat treatment condition | +QT |  |  | EN 10083-3 or DIN EN 683-2 |\\n| 14 | Ultrasonic testing | acc. drawing |  |  | EN 10228-3 |\\n| 15 | Magnetic particle inspection | acc. drawing |  |  | EN 10228-1 |\\n| 16 | Penetration test | acc. drawing |  |  | EN 10228-2 |\\n| 17 | Component marking | acc. drawing |  |  |  |\\n| 18 | Inspection certificate | Acceptance | test certificate | 3.1 | EN 10204 |\\n', page_number=9, table_index=1, is_table=True), TextElement(type='text', text='KWN49037_A_eng.docx Page 10 von 13 Copyright (\\uf0e3) KWD Kupplungswerk Dresden, All rights reserved. Supply specification ', page_number=9, table_index=None, is_table=False), TextElement(type='text', text='Supply specification KWN 49037 Revision: A 2.8.2 31CrMoV9 Table 9: Material data sheet 31CrMoV9 ', page_number=10, table_index=None, is_table=False), TextElement(type='table', text='| No. | Indication | Value / Name |  |  | Reference/Note |\\n| :--- | :--- | :--- | :--- | :--- | :--- |\\n| 1 | Material designation | 31CrMoV9 | EN 10085 |\\n| 2 | Material number | 1.8519 |  |  | EN 10085 |\\n| 3 | Mechanical properties | acc. drawing |  |  | Verification is done on one sample per material charge |\\n| 4 | Manufacturing process | Drop-forged, free-form forged or rolled | Without inclusions and folds |\\n| 5 | Forging grade | F |  |  | EN 10243-1 |\\n| 6 | Tolerances | - |  |  | EN 10243-1 |\\n| 7 | Fineness | - M1 | EN 10243-1 |\\n| 8 | Steel grade | EN 10243-1 |\\n| 9 | Surface finish | clean descaled |  |\\n| 10 | Chemical composition | Acc. EN 10085 DIN EN 683-5 Deviating S ≤ 0,02% | or from standard: |  | Melt analysis per material charge |\\n| 11 | Cleanliness | Inclusion group Width Klasse | per melting charge sample, per material charge |\\n| A | Fine | 2 |\\n| Thick | 1 |\\n| B | Fine | 2 |\\n| C | Thick | 1 |\\n| Fine | 0,5 |\\n|  | Thick | 0,5 |\\n| D | Fine | 1 |\\n| DS | Thick | 1 |\\n|  |  |  | 2 |\\n| 12 | Grain size | ≥ 6 for 90% of the area Single grain ≤ 3 is prohibited | DIN EN ISO 643 After heat treatment on the test bar |\\n| 13 | Heat treatment condition | +QT |  | EN 10085 or DIN EN 683-5 |\\n| 14 | Ultrasonic testing | acc. drawing |  |  | EN 10228-3 |\\n| 15 | Magnetic particle inspection | acc. drawing |  |  | EN 10228-1 |\\n| 16 | Penetration test | acc. drawing |  |  | EN 10228-2 |\\n| 17 | Component marking | acc. drawing |  |  |  |\\n| 18 | Inspection certificate | Acceptance | test certificate | 3.1 | EN 10204 |\\n', page_number=10, table_index=0, is_table=True), TextElement(type='text', text='KWN49037_A_eng.docx Page 11 von 13 Copyright (\\uf0e3) KWD Kupplungswerk Dresden, All rights reserved. Supply specification ', page_number=10, table_index=None, is_table=False), TextElement(type='text', text='Supply specification KWN 49037 Revision: A 2.8.3 30CrNiMo8 Table 10: Material data sheet 30CrNiMo8 ', page_number=11, table_index=None, is_table=False), TextElement(type='table', text='| No. | Indication | Value / Name |  |  | Reference/Note |\\n| :--- | :--- | :--- | :--- | :--- | :--- |\\n| 1 | Material designation | 30CrNiMo8 | EN 10083-3 |\\n| 2 | Material number | 1.6580 |  |  | EN 10083-3 |\\n| 3 | Mechanical properties | acc. drawing |  |  | Verification is done on one sample per material charge |\\n| 4 | Manufacturing process | Drop-forged, rolled | free-form | forged or | Without inclusions and folds |\\n| 5 | Forging grade | F |  |  | EN 10243-1 |\\n| 6 | Tolerances | - |  |  | EN 10243-1 |\\n| 7 | Fineness | - |  |  | EN 10243-1 |\\n| 8 | Steel grade | M1 | EN 10243-1 |\\n| 9 | Surface finish | clean descaled Acc. EN 10083-3 or DIN EN 683-2 Deviating from standard: S ≤ 0,02% Cu ≤ 0,3% |  |\\n| 10 | Chemical composition | Melt analysis per material charge |\\n| 11 | Cleanliness | Inclusion | Width | Klasse | per melting charge sample, per material charge |\\n|  | group |  |  |\\n|  | A | Fine 2 |  |\\n|  |  | Thick 1 |  |\\n|  | B | Fine 2 |  |\\n|  | C | Thick 1 |  |\\n|  | Fine 0,5 |  |\\n|  |  | Thick 0,5 |  |\\n|  | D | Fine 1 |  |\\n|  | Thick 1 |  |\\n|  |  | DS | 2 |  |\\n| 12 | Grain size | ≥ 5 for 90% of the area Single grain ≤ 3 is prohibited | DIN EN ISO 643 After heat treatment on the test bar |\\n| 13 | Heat treatment condition | +QT |  |  | EN 10083-3 or DIN EN 683-2 |\\n| 14 | Ultrasonic testing | acc. drawing |  |  | EN 10228-3 |\\n| 15 | Magnetic particle inspection | acc. drawing |  |  | EN 10228-1 |\\n| 16 | Penetration test | acc. drawing |  |  | EN 10228-2 |\\n| 17 | Component marking | acc. drawing |  |  |  |\\n| 18 | Inspection certificate | Acceptance | test certificate | 3.1 | EN 10204 |\\n', page_number=11, table_index=0, is_table=True), TextElement(type='text', text='KWN49037_A_eng.docx Page 12 von 13 Copyright (\\uf0e3) KWD Kupplungswerk Dresden, All rights reserved. Supply specification ', page_number=11, table_index=None, is_table=False), TextElement(type='text', text='Supply specification KWN 49037 Revision: A Change notes: ', page_number=12, table_index=None, is_table=False), TextElement(type='table', text='| Revision | Date | Changes |\\n| :--- | :--- | :--- |\\n| A | 03/06/2022 | First edition |\\n', page_number=12, table_index=0, is_table=True), TextElement(type='text', text='KWN49037_A_eng.docx Page 13 von 13 Copyright (\\uf0e3) KWD Kupplungswerk Dresden, All rights reserved. Supply specification ', page_number=12, table_index=None, is_table=False)]\n"
     ]
    }
   ],
   "source": [
    "## Before start, load parsed document from my parsing method: table handling with tatr\n",
    "from pathlib import  Path\n",
    "from document_preprocess import process_pdf_text_from_plumber, postprocess_with_datr, remove_duplicates\n",
    "\n",
    "base_path = Path(\"preprocess_document/output\")\n",
    "pdf_path = base_path / \"sample.pdf\"\n",
    "\n",
    "detection_path = base_path / \"results/detection\"\n",
    "structure_path = base_path / \"results/structure\"\n",
    "\n",
    "# base_path의 마지막 디렉토리 이름과 pdf_path의 파일 이름(확장자를 제외한 부분)을 결합하여 file_prefix 생성\n",
    "file_prefix = f\"{base_path.stem}_{pdf_path.stem}\"\n",
    "\n",
    "pdfplumber_extracted_text = process_pdf_text_from_plumber(pdf_path, detection_path, file_prefix)\n",
    "\n",
    "# for element in pdfplumber_extracted_text:\n",
    "#     print(f\"Type: {element.type}, Page: {element.page_number}, Table Index: {element.table_index}\")\n",
    "#     print(element.text)\n",
    "#     print(\"-\" * 80)\n",
    "\n",
    "postprocess_result = postprocess_with_datr(pdfplumber_extracted_text, structure_path, file_prefix)\n",
    "\n",
    "print(postprocess_result) ## returned List[TextElement]."
   ]
  },
  {
   "cell_type": "code",
   "execution_count": 5,
   "metadata": {},
   "outputs": [
    {
     "name": "stdout",
     "output_type": "stream",
     "text": [
      "Checking element: | Created by: | Dipl.-Ing. M. Krondorf | 03/06/2022 | sgd. M. Krondorf |\n",
      "| :--- | :--- | :--- | :--- |\n",
      "| Examined by: | Dr.-Ing. T. Hähnel | 03/06/2022 | sgd. T. Hähnel |\n",
      "|  | Name | Date | Signature |\n",
      "\n",
      "Checking element: | Supply specification KWN 49037 |\n",
      "| :--- |\n",
      "|\n",
      "\n",
      "Checking element: | Supply specification KWN 49037 |\n",
      "| :--- |\n",
      "| Revision: A |\n",
      "\n",
      "Checking element: | Group | Inclusion thickness | Max. permitted class |\n",
      "| :--- | :--- | :--- |\n",
      "| A | Fine | 3 |\n",
      "| Thick | 3 |\n",
      "| B | Fine | 2,5 |\n",
      "| Thick | 1,5 |\n",
      "| C | Fine | 2,5 |\n",
      "| Thick | 1,5 |\n",
      "| D | Fine | 2 |\n",
      "| Thick | 1,5 |\n",
      "| DS |  | 2 |\n",
      "\n",
      "Checking element: | Class | Inclusion group |\n",
      "| :--- | :--- |\n",
      "|\n",
      "| 0,5 | 37 | 17 | 18 | 1 | 13 |\n",
      "| 1 | 127 | 77 | 76 | 4 | 19 |\n",
      "| 1,5 | 261 | 184 | 176 | 9 | 27 |\n",
      "| 2 | 436 | 343 | 320 | 16 | 38 |\n",
      "| 2,5 | 649 | 555 | 510 | 25 | 53 |\n",
      "| 3 | 898 | 822 | 746 | 36 | 76 |\n",
      "\n",
      "Checking element: | Inclusion group | Fine | Thick |\n",
      "| :--- | :--- | :--- |\n",
      "|\n",
      "| A | 2 | 4 | 4 | 12 |\n",
      "| B | 2 | 9 | 9 | 15 |\n",
      "| C | 2 | 5 | 5 | 12 |\n",
      "| D | Ø2 | Ø 8 | Ø 8 | Ø 13 |\n",
      "\n",
      "Checking element: | Standards | Application area |\n",
      "| :--- | :--- |\n",
      "| DIN EN 10247 | Quenched and tempered steel, case hardening steel |\n",
      "| ISO 4967 | Low alloy steels |\n",
      "| ASTM E45 | Low alloy steels |\n",
      "\n",
      "Checking element: | Standard | Quantity evaluation | Maximum evaluation | 1: Minimum test area [mm2] 2: Min. length x width [mm] 3: Min. number [Pcs] | Minimum inclusion size for the evaluation [µm] | Distance relations [µm] |\n",
      "| :--- | :--- | :--- | :--- | :--- | :--- |\n",
      "| DIN EN 10247 | Method K | Method M, Method P | 1: 200; 2: 20x10; 3: 6 | w &gt; 2 d &gt; 3 l &gt; 3 | e ≤ 40 t ≤ 10 |\n",
      "| ISO 4967 | Method B | Method A | Minimum 100 visual fields of size ≥ 50 mm² | w &gt; 2 d &gt; 3 | e ≤ 40 t ≤ 10 |\n",
      "| ASTM E45 | Method D, E | Method A | 1: 160 | w &gt; 2 d &gt; 3 | e ≤ 40 t ≤ 15 |\n",
      "\n",
      "Checking element: | Grain size index G | Number of grains per square millimeter M | Average grain diameter 𝑑̅ [mm] | Average grain area 𝑎̅ [mm2] | Mean length of the linear section segment l [mm] | Mean number of intersections with grains per milimeter of measurement line |\n",
      "| :--- | :--- | :--- | :--- | :--- | :--- |\n",
      "|\n",
      "| 3 | 64 | 48 | 96 | 0,125 | 0,01560 | 0,113 | 8,84 |\n",
      "| 6 | 512 | 384 | 768 | 0,0442 | 0,00195 | 0,040 | 25,0 |\n",
      "\n",
      "Checking element: | |\n",
      "| :--- |\n",
      "| Supply specification |\n",
      "| KWN 49037 |\n",
      "| Revision: A |\n",
      "\n",
      "Checking element: | |\n",
      "| :--- |\n",
      "| Supply specification KWN 49037 |\n",
      "| Revision: A |\n",
      "\n",
      "Checking element: | |\n",
      "| :--- |\n",
      "| Supply specification |\n",
      "| Revision: A |\n",
      "\n",
      "Checking element: | No. | Indication | Value / Name |  |  | Reference/Note |\n",
      "| :--- | :--- | :--- | :--- | :--- | :--- |\n",
      "| 1 | Material designation | 42CrMo4 | EN 10083-3 |\n",
      "| 2 | Material number | 1.7225 |  |  | EN 10083-3 |\n",
      "| 3 | Mechanical properties | acc. drawing |  |  | Verification is done on one sample per material charge |\n",
      "| 4 | Manufacturing process | Drop-forged, rolled | free-form | forged or | Without inclusions and folds |\n",
      "| 5 | Forging grade | F |  |  | EN 10243-1 |\n",
      "| 6 | Tolerances | - |  |  | EN 10243-1 |\n",
      "| 7 | Fineness | - M1 | EN 10243-1 |\n",
      "| 8 | Steel grade | EN 10243-1 |\n",
      "| 9 | Surface finish | clean descaled |  |  |  |\n",
      "| 10 | Chemical composition | Acc. EN 10083-3 or DIN EN 683-2 Deviating from standard: S ≤ 0,02% Cu ≤ 0,3% | Melt analysis per material charge |\n",
      "| 11 | Cleanliness | Inclusion | Width | Klasse | per melting charge sample, per material charge |\n",
      "|  | group |  |  |\n",
      "|  | A | Fine 2 |  |\n",
      "|  |  | Thick 1 |  |\n",
      "|  | B C | Fine 2 |  |\n",
      "|  | Thick 1 |  |\n",
      "|  | Fine 0,5 |  |\n",
      "|  |  | Thick 0,5 |  |\n",
      "|  | D DS | Fine 1 |  |\n",
      "|  | Thick 1 |  |\n",
      "|  |  | 2 |  |\n",
      "| 12 | Grain size | ≥ 6 for 90% of the area Single grain ≤ 3 is prohibited | DIN EN ISO 643 After heat treatment on the test bar |\n",
      "| 13 | Heat treatment condition | +QT |  |  | EN 10083-3 or DIN EN 683-2 |\n",
      "| 14 | Ultrasonic testing | acc. drawing |  |  | EN 10228-3 |\n",
      "| 15 | Magnetic particle inspection | acc. drawing |  |  | EN 10228-1 |\n",
      "| 16 | Penetration test | acc. drawing |  |  | EN 10228-2 |\n",
      "| 17 | Component marking | acc. drawing |  |  |  |\n",
      "| 18 | Inspection certificate | Acceptance | test certificate | 3.1 | EN 10204 |\n",
      "\n",
      "Checking element: | No. | Indication | Value / Name |  |  | Reference/Note |\n",
      "| :--- | :--- | :--- | :--- | :--- | :--- |\n",
      "| 1 | Material designation | 31CrMoV9 | EN 10085 |\n",
      "| 2 | Material number | 1.8519 |  |  | EN 10085 |\n",
      "| 3 | Mechanical properties | acc. drawing |  |  | Verification is done on one sample per material charge |\n",
      "| 4 | Manufacturing process | Drop-forged, free-form forged or rolled | Without inclusions and folds |\n",
      "| 5 | Forging grade | F |  |  | EN 10243-1 |\n",
      "| 6 | Tolerances | - |  |  | EN 10243-1 |\n",
      "| 7 | Fineness | - M1 | EN 10243-1 |\n",
      "| 8 | Steel grade | EN 10243-1 |\n",
      "| 9 | Surface finish | clean descaled |  |\n",
      "| 10 | Chemical composition | Acc. EN 10085 DIN EN 683-5 Deviating S ≤ 0,02% | or from standard: |  | Melt analysis per material charge |\n",
      "| 11 | Cleanliness | Inclusion group Width Klasse | per melting charge sample, per material charge |\n",
      "| A | Fine | 2 |\n",
      "| Thick | 1 |\n",
      "| B | Fine | 2 |\n",
      "| C | Thick | 1 |\n",
      "| Fine | 0,5 |\n",
      "|  | Thick | 0,5 |\n",
      "| D | Fine | 1 |\n",
      "| DS | Thick | 1 |\n",
      "|  |  |  | 2 |\n",
      "| 12 | Grain size | ≥ 6 for 90% of the area Single grain ≤ 3 is prohibited | DIN EN ISO 643 After heat treatment on the test bar |\n",
      "| 13 | Heat treatment condition | +QT |  | EN 10085 or DIN EN 683-5 |\n",
      "| 14 | Ultrasonic testing | acc. drawing |  |  | EN 10228-3 |\n",
      "| 15 | Magnetic particle inspection | acc. drawing |  |  | EN 10228-1 |\n",
      "| 16 | Penetration test | acc. drawing |  |  | EN 10228-2 |\n",
      "| 17 | Component marking | acc. drawing |  |  |  |\n",
      "| 18 | Inspection certificate | Acceptance | test certificate | 3.1 | EN 10204 |\n",
      "\n",
      "Checking element: | No. | Indication | Value / Name |  |  | Reference/Note |\n",
      "| :--- | :--- | :--- | :--- | :--- | :--- |\n",
      "| 1 | Material designation | 30CrNiMo8 | EN 10083-3 |\n",
      "| 2 | Material number | 1.6580 |  |  | EN 10083-3 |\n",
      "| 3 | Mechanical properties | acc. drawing |  |  | Verification is done on one sample per material charge |\n",
      "| 4 | Manufacturing process | Drop-forged, rolled | free-form | forged or | Without inclusions and folds |\n",
      "| 5 | Forging grade | F |  |  | EN 10243-1 |\n",
      "| 6 | Tolerances | - |  |  | EN 10243-1 |\n",
      "| 7 | Fineness | - |  |  | EN 10243-1 |\n",
      "| 8 | Steel grade | M1 | EN 10243-1 |\n",
      "| 9 | Surface finish | clean descaled Acc. EN 10083-3 or DIN EN 683-2 Deviating from standard: S ≤ 0,02% Cu ≤ 0,3% |  |\n",
      "| 10 | Chemical composition | Melt analysis per material charge |\n",
      "| 11 | Cleanliness | Inclusion | Width | Klasse | per melting charge sample, per material charge |\n",
      "|  | group |  |  |\n",
      "|  | A | Fine 2 |  |\n",
      "|  |  | Thick 1 |  |\n",
      "|  | B | Fine 2 |  |\n",
      "|  | C | Thick 1 |  |\n",
      "|  | Fine 0,5 |  |\n",
      "|  |  | Thick 0,5 |  |\n",
      "|  | D | Fine 1 |  |\n",
      "|  | Thick 1 |  |\n",
      "|  |  | DS | 2 |  |\n",
      "| 12 | Grain size | ≥ 5 for 90% of the area Single grain ≤ 3 is prohibited | DIN EN ISO 643 After heat treatment on the test bar |\n",
      "| 13 | Heat treatment condition | +QT |  |  | EN 10083-3 or DIN EN 683-2 |\n",
      "| 14 | Ultrasonic testing | acc. drawing |  |  | EN 10228-3 |\n",
      "| 15 | Magnetic particle inspection | acc. drawing |  |  | EN 10228-1 |\n",
      "| 16 | Penetration test | acc. drawing |  |  | EN 10228-2 |\n",
      "| 17 | Component marking | acc. drawing |  |  |  |\n",
      "| 18 | Inspection certificate | Acceptance | test certificate | 3.1 | EN 10204 |\n",
      "\n",
      "Checking element: | Revision | Date | Changes |\n",
      "| :--- | :--- | :--- |\n",
      "| A | 03/06/2022 | First edition |\n",
      "\n"
     ]
    }
   ],
   "source": [
    "## Now we setup section and whole context.\n",
    "## It will be summarize section based on whole context(cause model's input context is large enough)\n",
    "\n",
    "## simple whole context setup\n",
    "whole_context = \"\\n\\n\".join(element.text for element in postprocess_result)\n",
    "\n",
    "section_list = [element for element in postprocess_result if element.type==\"table\"]\n",
    "unique_section = remove_duplicates(section_list)"
   ]
  },
  {
   "cell_type": "code",
   "execution_count": 13,
   "metadata": {},
   "outputs": [
    {
     "name": "stdout",
     "output_type": "stream",
     "text": [
      "<generator object <genexpr> at 0x0000020051E68F90>\n"
     ]
    }
   ],
   "source": [
    "# print(element.text for element in section_list)"
   ]
  },
  {
   "cell_type": "code",
   "execution_count": 16,
   "metadata": {},
   "outputs": [
    {
     "name": "stdout",
     "output_type": "stream",
     "text": [
      "| Created by: | Dipl.-Ing. M. Krondorf | 03/06/2022 | sgd. M. Krondorf |\n",
      "| :--- | :--- | :--- | :--- |\n",
      "| Examined by: | Dr.-Ing. T. Hähnel | 03/06/2022 | sgd. T. Hähnel |\n",
      "|  | Name | Date | Signature |\n",
      "\n",
      "\n",
      "| Supply specification KWN 49037 |\n",
      "| :--- |\n",
      "|\n",
      "\n",
      "\n",
      "| Supply specification KWN 49037 |\n",
      "| :--- |\n",
      "| Revision: A |\n",
      "\n",
      "\n",
      "| Group | Inclusion thickness | Max. permitted class |\n",
      "| :--- | :--- | :--- |\n",
      "| A | Fine | 3 |\n",
      "| Thick | 3 |\n",
      "| B | Fine | 2,5 |\n",
      "| Thick | 1,5 |\n",
      "| C | Fine | 2,5 |\n",
      "| Thick | 1,5 |\n",
      "| D | Fine | 2 |\n",
      "| Thick | 1,5 |\n",
      "| DS |  | 2 |\n",
      "\n",
      "\n",
      "| Class | Inclusion group |\n",
      "| :--- | :--- |\n",
      "|\n",
      "| 0,5 | 37 | 17 | 18 | 1 | 13 |\n",
      "| 1 | 127 | 77 | 76 | 4 | 19 |\n",
      "| 1,5 | 261 | 184 | 176 | 9 | 27 |\n",
      "| 2 | 436 | 343 | 320 | 16 | 38 |\n",
      "| 2,5 | 649 | 555 | 510 | 25 | 53 |\n",
      "| 3 | 898 | 822 | 746 | 36 | 76 |\n",
      "\n",
      "\n",
      "| Inclusion group | Fine | Thick |\n",
      "| :--- | :--- | :--- |\n",
      "|\n",
      "| A | 2 | 4 | 4 | 12 |\n",
      "| B | 2 | 9 | 9 | 15 |\n",
      "| C | 2 | 5 | 5 | 12 |\n",
      "| D | Ø2 | Ø 8 | Ø 8 | Ø 13 |\n",
      "\n",
      "\n",
      "| Standards | Application area |\n",
      "| :--- | :--- |\n",
      "| DIN EN 10247 | Quenched and tempered steel, case hardening steel |\n",
      "| ISO 4967 | Low alloy steels |\n",
      "| ASTM E45 | Low alloy steels |\n",
      "\n",
      "\n",
      "| Standard | Quantity evaluation | Maximum evaluation | 1: Minimum test area [mm2] 2: Min. length x width [mm] 3: Min. number [Pcs] | Minimum inclusion size for the evaluation [µm] | Distance relations [µm] |\n",
      "| :--- | :--- | :--- | :--- | :--- | :--- |\n",
      "| DIN EN 10247 | Method K | Method M, Method P | 1: 200; 2: 20x10; 3: 6 | w &gt; 2 d &gt; 3 l &gt; 3 | e ≤ 40 t ≤ 10 |\n",
      "| ISO 4967 | Method B | Method A | Minimum 100 visual fields of size ≥ 50 mm² | w &gt; 2 d &gt; 3 | e ≤ 40 t ≤ 10 |\n",
      "| ASTM E45 | Method D, E | Method A | 1: 160 | w &gt; 2 d &gt; 3 | e ≤ 40 t ≤ 15 |\n",
      "\n",
      "\n",
      "| Grain size index G | Number of grains per square millimeter M | Average grain diameter 𝑑̅ [mm] | Average grain area 𝑎̅ [mm2] | Mean length of the linear section segment l [mm] | Mean number of intersections with grains per milimeter of measurement line |\n",
      "| :--- | :--- | :--- | :--- | :--- | :--- |\n",
      "|\n",
      "| 3 | 64 | 48 | 96 | 0,125 | 0,01560 | 0,113 | 8,84 |\n",
      "| 6 | 512 | 384 | 768 | 0,0442 | 0,00195 | 0,040 | 25,0 |\n",
      "\n",
      "\n",
      "| |\n",
      "| :--- |\n",
      "| Supply specification |\n",
      "| KWN 49037 |\n",
      "| Revision: A |\n",
      "\n",
      "\n",
      "| |\n",
      "| :--- |\n",
      "| Supply specification KWN 49037 |\n",
      "| Revision: A |\n",
      "\n",
      "\n",
      "| |\n",
      "| :--- |\n",
      "| Supply specification |\n",
      "| Revision: A |\n",
      "\n",
      "\n",
      "| No. | Indication | Value / Name |  |  | Reference/Note |\n",
      "| :--- | :--- | :--- | :--- | :--- | :--- |\n",
      "| 1 | Material designation | 42CrMo4 | EN 10083-3 |\n",
      "| 2 | Material number | 1.7225 |  |  | EN 10083-3 |\n",
      "| 3 | Mechanical properties | acc. drawing |  |  | Verification is done on one sample per material charge |\n",
      "| 4 | Manufacturing process | Drop-forged, rolled | free-form | forged or | Without inclusions and folds |\n",
      "| 5 | Forging grade | F |  |  | EN 10243-1 |\n",
      "| 6 | Tolerances | - |  |  | EN 10243-1 |\n",
      "| 7 | Fineness | - M1 | EN 10243-1 |\n",
      "| 8 | Steel grade | EN 10243-1 |\n",
      "| 9 | Surface finish | clean descaled |  |  |  |\n",
      "| 10 | Chemical composition | Acc. EN 10083-3 or DIN EN 683-2 Deviating from standard: S ≤ 0,02% Cu ≤ 0,3% | Melt analysis per material charge |\n",
      "| 11 | Cleanliness | Inclusion | Width | Klasse | per melting charge sample, per material charge |\n",
      "|  | group |  |  |\n",
      "|  | A | Fine 2 |  |\n",
      "|  |  | Thick 1 |  |\n",
      "|  | B C | Fine 2 |  |\n",
      "|  | Thick 1 |  |\n",
      "|  | Fine 0,5 |  |\n",
      "|  |  | Thick 0,5 |  |\n",
      "|  | D DS | Fine 1 |  |\n",
      "|  | Thick 1 |  |\n",
      "|  |  | 2 |  |\n",
      "| 12 | Grain size | ≥ 6 for 90% of the area Single grain ≤ 3 is prohibited | DIN EN ISO 643 After heat treatment on the test bar |\n",
      "| 13 | Heat treatment condition | +QT |  |  | EN 10083-3 or DIN EN 683-2 |\n",
      "| 14 | Ultrasonic testing | acc. drawing |  |  | EN 10228-3 |\n",
      "| 15 | Magnetic particle inspection | acc. drawing |  |  | EN 10228-1 |\n",
      "| 16 | Penetration test | acc. drawing |  |  | EN 10228-2 |\n",
      "| 17 | Component marking | acc. drawing |  |  |  |\n",
      "| 18 | Inspection certificate | Acceptance | test certificate | 3.1 | EN 10204 |\n",
      "\n",
      "\n",
      "| No. | Indication | Value / Name |  |  | Reference/Note |\n",
      "| :--- | :--- | :--- | :--- | :--- | :--- |\n",
      "| 1 | Material designation | 31CrMoV9 | EN 10085 |\n",
      "| 2 | Material number | 1.8519 |  |  | EN 10085 |\n",
      "| 3 | Mechanical properties | acc. drawing |  |  | Verification is done on one sample per material charge |\n",
      "| 4 | Manufacturing process | Drop-forged, free-form forged or rolled | Without inclusions and folds |\n",
      "| 5 | Forging grade | F |  |  | EN 10243-1 |\n",
      "| 6 | Tolerances | - |  |  | EN 10243-1 |\n",
      "| 7 | Fineness | - M1 | EN 10243-1 |\n",
      "| 8 | Steel grade | EN 10243-1 |\n",
      "| 9 | Surface finish | clean descaled |  |\n",
      "| 10 | Chemical composition | Acc. EN 10085 DIN EN 683-5 Deviating S ≤ 0,02% | or from standard: |  | Melt analysis per material charge |\n",
      "| 11 | Cleanliness | Inclusion group Width Klasse | per melting charge sample, per material charge |\n",
      "| A | Fine | 2 |\n",
      "| Thick | 1 |\n",
      "| B | Fine | 2 |\n",
      "| C | Thick | 1 |\n",
      "| Fine | 0,5 |\n",
      "|  | Thick | 0,5 |\n",
      "| D | Fine | 1 |\n",
      "| DS | Thick | 1 |\n",
      "|  |  |  | 2 |\n",
      "| 12 | Grain size | ≥ 6 for 90% of the area Single grain ≤ 3 is prohibited | DIN EN ISO 643 After heat treatment on the test bar |\n",
      "| 13 | Heat treatment condition | +QT |  | EN 10085 or DIN EN 683-5 |\n",
      "| 14 | Ultrasonic testing | acc. drawing |  |  | EN 10228-3 |\n",
      "| 15 | Magnetic particle inspection | acc. drawing |  |  | EN 10228-1 |\n",
      "| 16 | Penetration test | acc. drawing |  |  | EN 10228-2 |\n",
      "| 17 | Component marking | acc. drawing |  |  |  |\n",
      "| 18 | Inspection certificate | Acceptance | test certificate | 3.1 | EN 10204 |\n",
      "\n",
      "\n",
      "| No. | Indication | Value / Name |  |  | Reference/Note |\n",
      "| :--- | :--- | :--- | :--- | :--- | :--- |\n",
      "| 1 | Material designation | 30CrNiMo8 | EN 10083-3 |\n",
      "| 2 | Material number | 1.6580 |  |  | EN 10083-3 |\n",
      "| 3 | Mechanical properties | acc. drawing |  |  | Verification is done on one sample per material charge |\n",
      "| 4 | Manufacturing process | Drop-forged, rolled | free-form | forged or | Without inclusions and folds |\n",
      "| 5 | Forging grade | F |  |  | EN 10243-1 |\n",
      "| 6 | Tolerances | - |  |  | EN 10243-1 |\n",
      "| 7 | Fineness | - |  |  | EN 10243-1 |\n",
      "| 8 | Steel grade | M1 | EN 10243-1 |\n",
      "| 9 | Surface finish | clean descaled Acc. EN 10083-3 or DIN EN 683-2 Deviating from standard: S ≤ 0,02% Cu ≤ 0,3% |  |\n",
      "| 10 | Chemical composition | Melt analysis per material charge |\n",
      "| 11 | Cleanliness | Inclusion | Width | Klasse | per melting charge sample, per material charge |\n",
      "|  | group |  |  |\n",
      "|  | A | Fine 2 |  |\n",
      "|  |  | Thick 1 |  |\n",
      "|  | B | Fine 2 |  |\n",
      "|  | C | Thick 1 |  |\n",
      "|  | Fine 0,5 |  |\n",
      "|  |  | Thick 0,5 |  |\n",
      "|  | D | Fine 1 |  |\n",
      "|  | Thick 1 |  |\n",
      "|  |  | DS | 2 |  |\n",
      "| 12 | Grain size | ≥ 5 for 90% of the area Single grain ≤ 3 is prohibited | DIN EN ISO 643 After heat treatment on the test bar |\n",
      "| 13 | Heat treatment condition | +QT |  |  | EN 10083-3 or DIN EN 683-2 |\n",
      "| 14 | Ultrasonic testing | acc. drawing |  |  | EN 10228-3 |\n",
      "| 15 | Magnetic particle inspection | acc. drawing |  |  | EN 10228-1 |\n",
      "| 16 | Penetration test | acc. drawing |  |  | EN 10228-2 |\n",
      "| 17 | Component marking | acc. drawing |  |  |  |\n",
      "| 18 | Inspection certificate | Acceptance | test certificate | 3.1 | EN 10204 |\n",
      "\n",
      "\n",
      "| Revision | Date | Changes |\n",
      "| :--- | :--- | :--- |\n",
      "| A | 03/06/2022 | First edition |\n",
      "\n"
     ]
    }
   ],
   "source": [
    "print(\"\\n\\n\".join([element.text for element in section_list]))"
   ]
  },
  {
   "cell_type": "code",
   "execution_count": 8,
   "metadata": {},
   "outputs": [
    {
     "name": "stdout",
     "output_type": "stream",
     "text": [
      "16\n"
     ]
    }
   ],
   "source": [
    "print(len(unique_section))\n",
    "\n"
   ]
  },
  {
   "cell_type": "code",
   "execution_count": 16,
   "metadata": {},
   "outputs": [
    {
     "name": "stdout",
     "output_type": "stream",
     "text": [
      "[TextElement(type='table', text='| Created by: | Dipl.-Ing. M. Krondorf | 03/06/2022 | sgd. M. Krondorf |\\n| :--- | :--- | :--- | :--- |\\n| Examined by: | Dr.-Ing. T. Hähnel | 03/06/2022 | sgd. T. Hähnel |\\n|  | Name | Date | Signature |\\n', page_number=0, table_index=0, is_table=True), TextElement(type='table', text='| Supply specification KWN 49037 |\\n| :--- |\\n|\\n', page_number=1, table_index=0, is_table=True), TextElement(type='table', text='| Supply specification KWN 49037 |\\n| :--- |\\n| Revision: A |\\n', page_number=2, table_index=0, is_table=True), TextElement(type='table', text='| Group | Inclusion thickness | Max. permitted class |\\n| :--- | :--- | :--- |\\n| A | Fine | 3 |\\n| Thick | 3 |\\n| B | Fine | 2,5 |\\n| Thick | 1,5 |\\n| C | Fine | 2,5 |\\n| Thick | 1,5 |\\n| D | Fine | 2 |\\n| Thick | 1,5 |\\n| DS |  | 2 |\\n', page_number=3, table_index=0, is_table=True), TextElement(type='table', text='| Class | Inclusion group |\\n| :--- | :--- |\\n|\\n| 0,5 | 37 | 17 | 18 | 1 | 13 |\\n| 1 | 127 | 77 | 76 | 4 | 19 |\\n| 1,5 | 261 | 184 | 176 | 9 | 27 |\\n| 2 | 436 | 343 | 320 | 16 | 38 |\\n| 2,5 | 649 | 555 | 510 | 25 | 53 |\\n| 3 | 898 | 822 | 746 | 36 | 76 |\\n', page_number=4, table_index=0, is_table=True), TextElement(type='table', text='| Inclusion group | Fine | Thick |\\n| :--- | :--- | :--- |\\n|\\n| A | 2 | 4 | 4 | 12 |\\n| B | 2 | 9 | 9 | 15 |\\n| C | 2 | 5 | 5 | 12 |\\n| D | Ø2 | Ø 8 | Ø 8 | Ø 13 |\\n', page_number=4, table_index=1, is_table=True), TextElement(type='table', text='| Standards | Application area |\\n| :--- | :--- |\\n| DIN EN 10247 | Quenched and tempered steel, case hardening steel |\\n| ISO 4967 | Low alloy steels |\\n| ASTM E45 | Low alloy steels |\\n', page_number=6, table_index=0, is_table=True), TextElement(type='table', text='| Standard | Quantity evaluation | Maximum evaluation | 1: Minimum test area [mm2] 2: Min. length x width [mm] 3: Min. number [Pcs] | Minimum inclusion size for the evaluation [µm] | Distance relations [µm] |\\n| :--- | :--- | :--- | :--- | :--- | :--- |\\n| DIN EN 10247 | Method K | Method M, Method P | 1: 200; 2: 20x10; 3: 6 | w &gt; 2 d &gt; 3 l &gt; 3 | e ≤ 40 t ≤ 10 |\\n| ISO 4967 | Method B | Method A | Minimum 100 visual fields of size ≥ 50 mm² | w &gt; 2 d &gt; 3 | e ≤ 40 t ≤ 10 |\\n| ASTM E45 | Method D, E | Method A | 1: 160 | w &gt; 2 d &gt; 3 | e ≤ 40 t ≤ 15 |\\n', page_number=6, table_index=1, is_table=True), TextElement(type='table', text='| Grain size index G | Number of grains per square millimeter M | Average grain diameter 𝑑̅ [mm] | Average grain area 𝑎̅ [mm2] | Mean length of the linear section segment l [mm] | Mean number of intersections with grains per milimeter of measurement line |\\n| :--- | :--- | :--- | :--- | :--- | :--- |\\n|\\n| 3 | 64 | 48 | 96 | 0,125 | 0,01560 | 0,113 | 8,84 |\\n| 6 | 512 | 384 | 768 | 0,0442 | 0,00195 | 0,040 | 25,0 |\\n', page_number=6, table_index=2, is_table=True), TextElement(type='table', text='| |\\n| :--- |\\n| Supply specification |\\n| KWN 49037 |\\n| Revision: A |\\n', page_number=7, table_index=0, is_table=True), TextElement(type='table', text='| |\\n| :--- |\\n| Supply specification KWN 49037 |\\n| Revision: A |\\n', page_number=8, table_index=0, is_table=True), TextElement(type='table', text='| |\\n| :--- |\\n| Supply specification |\\n| Revision: A |\\n', page_number=9, table_index=0, is_table=True), TextElement(type='table', text='| No. | Indication | Value / Name |  |  | Reference/Note |\\n| :--- | :--- | :--- | :--- | :--- | :--- |\\n| 1 | Material designation | 42CrMo4 | EN 10083-3 |\\n| 2 | Material number | 1.7225 |  |  | EN 10083-3 |\\n| 3 | Mechanical properties | acc. drawing |  |  | Verification is done on one sample per material charge |\\n| 4 | Manufacturing process | Drop-forged, rolled | free-form | forged or | Without inclusions and folds |\\n| 5 | Forging grade | F |  |  | EN 10243-1 |\\n| 6 | Tolerances | - |  |  | EN 10243-1 |\\n| 7 | Fineness | - M1 | EN 10243-1 |\\n| 8 | Steel grade | EN 10243-1 |\\n| 9 | Surface finish | clean descaled |  |  |  |\\n| 10 | Chemical composition | Acc. EN 10083-3 or DIN EN 683-2 Deviating from standard: S ≤ 0,02% Cu ≤ 0,3% | Melt analysis per material charge |\\n| 11 | Cleanliness | Inclusion | Width | Klasse | per melting charge sample, per material charge |\\n|  | group |  |  |\\n|  | A | Fine 2 |  |\\n|  |  | Thick 1 |  |\\n|  | B C | Fine 2 |  |\\n|  | Thick 1 |  |\\n|  | Fine 0,5 |  |\\n|  |  | Thick 0,5 |  |\\n|  | D DS | Fine 1 |  |\\n|  | Thick 1 |  |\\n|  |  | 2 |  |\\n| 12 | Grain size | ≥ 6 for 90% of the area Single grain ≤ 3 is prohibited | DIN EN ISO 643 After heat treatment on the test bar |\\n| 13 | Heat treatment condition | +QT |  |  | EN 10083-3 or DIN EN 683-2 |\\n| 14 | Ultrasonic testing | acc. drawing |  |  | EN 10228-3 |\\n| 15 | Magnetic particle inspection | acc. drawing |  |  | EN 10228-1 |\\n| 16 | Penetration test | acc. drawing |  |  | EN 10228-2 |\\n| 17 | Component marking | acc. drawing |  |  |  |\\n| 18 | Inspection certificate | Acceptance | test certificate | 3.1 | EN 10204 |\\n', page_number=9, table_index=1, is_table=True), TextElement(type='table', text='| No. | Indication | Value / Name |  |  | Reference/Note |\\n| :--- | :--- | :--- | :--- | :--- | :--- |\\n| 1 | Material designation | 31CrMoV9 | EN 10085 |\\n| 2 | Material number | 1.8519 |  |  | EN 10085 |\\n| 3 | Mechanical properties | acc. drawing |  |  | Verification is done on one sample per material charge |\\n| 4 | Manufacturing process | Drop-forged, free-form forged or rolled | Without inclusions and folds |\\n| 5 | Forging grade | F |  |  | EN 10243-1 |\\n| 6 | Tolerances | - |  |  | EN 10243-1 |\\n| 7 | Fineness | - M1 | EN 10243-1 |\\n| 8 | Steel grade | EN 10243-1 |\\n| 9 | Surface finish | clean descaled |  |\\n| 10 | Chemical composition | Acc. EN 10085 DIN EN 683-5 Deviating S ≤ 0,02% | or from standard: |  | Melt analysis per material charge |\\n| 11 | Cleanliness | Inclusion group Width Klasse | per melting charge sample, per material charge |\\n| A | Fine | 2 |\\n| Thick | 1 |\\n| B | Fine | 2 |\\n| C | Thick | 1 |\\n| Fine | 0,5 |\\n|  | Thick | 0,5 |\\n| D | Fine | 1 |\\n| DS | Thick | 1 |\\n|  |  |  | 2 |\\n| 12 | Grain size | ≥ 6 for 90% of the area Single grain ≤ 3 is prohibited | DIN EN ISO 643 After heat treatment on the test bar |\\n| 13 | Heat treatment condition | +QT |  | EN 10085 or DIN EN 683-5 |\\n| 14 | Ultrasonic testing | acc. drawing |  |  | EN 10228-3 |\\n| 15 | Magnetic particle inspection | acc. drawing |  |  | EN 10228-1 |\\n| 16 | Penetration test | acc. drawing |  |  | EN 10228-2 |\\n| 17 | Component marking | acc. drawing |  |  |  |\\n| 18 | Inspection certificate | Acceptance | test certificate | 3.1 | EN 10204 |\\n', page_number=10, table_index=0, is_table=True), TextElement(type='table', text='| No. | Indication | Value / Name |  |  | Reference/Note |\\n| :--- | :--- | :--- | :--- | :--- | :--- |\\n| 1 | Material designation | 30CrNiMo8 | EN 10083-3 |\\n| 2 | Material number | 1.6580 |  |  | EN 10083-3 |\\n| 3 | Mechanical properties | acc. drawing |  |  | Verification is done on one sample per material charge |\\n| 4 | Manufacturing process | Drop-forged, rolled | free-form | forged or | Without inclusions and folds |\\n| 5 | Forging grade | F |  |  | EN 10243-1 |\\n| 6 | Tolerances | - |  |  | EN 10243-1 |\\n| 7 | Fineness | - |  |  | EN 10243-1 |\\n| 8 | Steel grade | M1 | EN 10243-1 |\\n| 9 | Surface finish | clean descaled Acc. EN 10083-3 or DIN EN 683-2 Deviating from standard: S ≤ 0,02% Cu ≤ 0,3% |  |\\n| 10 | Chemical composition | Melt analysis per material charge |\\n| 11 | Cleanliness | Inclusion | Width | Klasse | per melting charge sample, per material charge |\\n|  | group |  |  |\\n|  | A | Fine 2 |  |\\n|  |  | Thick 1 |  |\\n|  | B | Fine 2 |  |\\n|  | C | Thick 1 |  |\\n|  | Fine 0,5 |  |\\n|  |  | Thick 0,5 |  |\\n|  | D | Fine 1 |  |\\n|  | Thick 1 |  |\\n|  |  | DS | 2 |  |\\n| 12 | Grain size | ≥ 5 for 90% of the area Single grain ≤ 3 is prohibited | DIN EN ISO 643 After heat treatment on the test bar |\\n| 13 | Heat treatment condition | +QT |  |  | EN 10083-3 or DIN EN 683-2 |\\n| 14 | Ultrasonic testing | acc. drawing |  |  | EN 10228-3 |\\n| 15 | Magnetic particle inspection | acc. drawing |  |  | EN 10228-1 |\\n| 16 | Penetration test | acc. drawing |  |  | EN 10228-2 |\\n| 17 | Component marking | acc. drawing |  |  |  |\\n| 18 | Inspection certificate | Acceptance | test certificate | 3.1 | EN 10204 |\\n', page_number=11, table_index=0, is_table=True), TextElement(type='table', text='| Revision | Date | Changes |\\n| :--- | :--- | :--- |\\n| A | 03/06/2022 | First edition |\\n', page_number=12, table_index=0, is_table=True)]\n"
     ]
    }
   ],
   "source": [
    "print(section_list)"
   ]
  },
  {
   "cell_type": "markdown",
   "metadata": {},
   "source": [
    "In document summarization, unlike video summarization like on YouTube, the process was carried out by viewing the entire document and sectioning parts of it, without the need for predefined sections. In this case, the parts being sectioned are tables."
   ]
  },
  {
   "cell_type": "code",
   "execution_count": null,
   "metadata": {},
   "outputs": [],
   "source": [
    "BASE_PROMPT = f\"\"\" \n",
    "You are Summarizer. Based on given whole document and section, you only summarize section based on whole document.\n",
    "You can provide more info about table by compare-and summarize\n",
    "\n",
    "############################################################################# WHOLE DOCUMENT\n",
    "{whole_context}\n",
    "#############################################################################\n",
    "\n",
    "you only summarize section based on whole document.\n",
    "\n",
    "############################################################################# SECTION\n",
    "{section}\n",
    "#############################################################################\n",
    "\"\"\""
   ]
  },
  {
   "cell_type": "code",
   "execution_count": 3,
   "metadata": {},
   "outputs": [],
   "source": [
    "model = genai.GenerativeModel(model_name=\"models/gemini-pro-vision\")"
   ]
  },
  {
   "cell_type": "code",
   "execution_count": 5,
   "metadata": {},
   "outputs": [],
   "source": [
    "from PIL import Image\n",
    "\n",
    "# 이미지 파일을 열고 표시합니다.\n",
    "img = Image.open('preprocess_document/output/results/detection/output_sample_page2_table_0.png')"
   ]
  },
  {
   "cell_type": "code",
   "execution_count": 15,
   "metadata": {},
   "outputs": [],
   "source": [
    "gemini_result = model.generate_content([\"tell me all the detail about this table.\", img], stream=True)"
   ]
  },
  {
   "cell_type": "code",
   "execution_count": 19,
   "metadata": {},
   "outputs": [
    {
     "data": {
      "text/plain": [
       "' The table shows the heat treatment and physical properties of a metal. The heat treatment process involves hardening the metal by quenching it in water at a temperature of 820-870 degrees Celsius, followed by tempering it by forced cooling at a temperature of 550-650 degrees Celsius. The physical properties of the metal after heat treatment are as follows: yield strength of 50 kg/mm2, tensile strength of 70 kg/mm2, elongation of 17%, reduction of area of 45%, Charpy impact test of 8 kgfm/cm2, and hardness Brinell of 201-269 HB.'"
      ]
     },
     "execution_count": 19,
     "metadata": {},
     "output_type": "execute_result"
    }
   ],
   "source": [
    "gemini_result.resolve()\n",
    "gemini_result.text"
   ]
  },
  {
   "cell_type": "code",
   "execution_count": null,
   "metadata": {},
   "outputs": [],
   "source": []
  }
 ],
 "metadata": {
  "kernelspec": {
   "display_name": "tables-detr-test",
   "language": "python",
   "name": "python3"
  },
  "language_info": {
   "codemirror_mode": {
    "name": "ipython",
    "version": 3
   },
   "file_extension": ".py",
   "mimetype": "text/x-python",
   "name": "python",
   "nbconvert_exporter": "python",
   "pygments_lexer": "ipython3",
   "version": "3.10.9"
  }
 },
 "nbformat": 4,
 "nbformat_minor": 2
}
